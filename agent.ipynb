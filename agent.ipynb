{
 "cells": [
  {
   "cell_type": "code",
   "execution_count": 10,
   "id": "fd5b8af4-4375-4b1c-a208-60ab118e62b0",
   "metadata": {},
   "outputs": [],
   "source": [
    "from langchain.agents import initialize_agent, Tool, AgentType\n",
    "from langchain_openai import ChatOpenAI \n",
    "import os\n",
    "from dotenv import load_dotenv"
   ]
  },
  {
   "cell_type": "code",
   "execution_count": 11,
   "id": "067941c2-6bbb-4b14-baae-814401014481",
   "metadata": {},
   "outputs": [],
   "source": [
    "load_dotenv()\n",
    "llm = ChatOpenAI(api_key=os.getenv('OPENAI_API_KEY'), model=\"gpt-3.5-turbo\",temperature=0)\n",
    "\n",
    "def resposta_simples(query):\n",
    "    return f\"A resposta para {query} é Paris\""
   ]
  },
  {
   "cell_type": "code",
   "execution_count": 12,
   "id": "098a7d58-38c9-4eaa-8e4d-407f5ab828b6",
   "metadata": {},
   "outputs": [],
   "source": [
    "tools = [\n",
    "    Tool(\n",
    "        name= \"Respostas Simples\",\n",
    "        func= resposta_simples,\n",
    "        description=\"Uma ferramenta simples para responder perguntas diretas\"\n",
    "    )\n",
    "]"
   ]
  },
  {
   "cell_type": "code",
   "execution_count": 13,
   "id": "aad20e8d-08ad-4178-a0c7-8e4f03f37b57",
   "metadata": {},
   "outputs": [
    {
     "name": "stdout",
     "output_type": "stream",
     "text": [
      "\n",
      "\n",
      "\u001b[1m> Entering new AgentExecutor chain...\u001b[0m\n",
      "\u001b[32;1m\u001b[1;3mI should use the tool Respostas Simples to quickly find the answer.\n",
      "Action: Respostas Simples\n",
      "Action Input: Qual é a capital da França?\u001b[0m\n",
      "Observation: \u001b[36;1m\u001b[1;3mA resposta para Qual é a capital da França? é Paris\u001b[0m\n",
      "Thought:\u001b[32;1m\u001b[1;3mEu agora sei a resposta final\n",
      "Final Answer: A capital da França é Paris.\u001b[0m\n",
      "\n",
      "\u001b[1m> Finished chain.\u001b[0m\n",
      "A capital da França é Paris.\n"
     ]
    }
   ],
   "source": [
    "agent= initialize_agent(tools,llm, agent=AgentType.ZERO_SHOT_REACT_DESCRIPTION,verbose=True)\n",
    "\n",
    "input_query =\"Qual é a capital da França?\"\n",
    "\n",
    "response= agent.run(input_query)\n",
    "print(response)"
   ]
  },
  {
   "cell_type": "markdown",
   "id": "f6f59abd-aab0-4c49-a36c-5de129ea2015",
   "metadata": {},
   "source": [
    "MODELO AVANÇADO DE AGENTE ESPECIALIZADO\n"
   ]
  },
  {
   "cell_type": "code",
   "execution_count": 14,
   "id": "3b3ff151-4630-4da5-937e-826760107711",
   "metadata": {},
   "outputs": [],
   "source": [
    "from langchain.agents import AgentExecutor\n",
    "import sqlite3"
   ]
  },
  {
   "cell_type": "code",
   "execution_count": 16,
   "id": "1b587a9c-9bb4-4687-958c-31e0f0ce3674",
   "metadata": {},
   "outputs": [],
   "source": [
    "def create_database():\n",
    "    conn = sqlite3.connect(\":memory:\")\n",
    "    c= conn.cursor()\n",
    "    c.execute(\"\"\"CREATE TABLE users (id INTEGER PRIMARY KEY, name TEXST, age INTEGER)\"\"\")\n",
    "    c.execute(\"INSERT INTO users(name, age) VALUES('João',23),('Maria',30)\")\n",
    "    conn.commit()\n",
    "    return conn"
   ]
  },
  {
   "cell_type": "code",
   "execution_count": 25,
   "id": "4b98e8bb-f05a-448b-9cd0-72ab62ca33a7",
   "metadata": {},
   "outputs": [],
   "source": [
    "def search_user_db(user_name):\n",
    "    conn= create_database()\n",
    "    c = conn.cursor()\n",
    "    c.execute(\"SELECT name, age FROM users WHERE name = ?\",(user_name,))\n",
    "    result = c.fetchone()\n",
    "    conn.close()\n",
    "    if result:\n",
    "        return f\"{result[0]} tem {result[1]} anos\"\n",
    "    else: \n",
    "        return \"Usuário não encontrado\"\n",
    "\n",
    "def sum_numbers(numbers):\n",
    "    if isinstance(numbers,str):\n",
    "        numbers= eval(numbers)\n",
    "    if isinstance(numbers, list):\n",
    "        total= sum(numbers)\n",
    "        return f\"A soma dos números{numbers} é {total}\"\n",
    "    else: \n",
    "        return \"Erro: A entrada não é uma lista de números válida\""
   ]
  },
  {
   "cell_type": "code",
   "execution_count": 26,
   "id": "0df121dc-60e0-41f9-b0f3-0a1b9a1ce46d",
   "metadata": {},
   "outputs": [],
   "source": [
    "tools=[\n",
    "    Tool(\n",
    "        name=\"Buscar Usuário no BD\",\n",
    "        func=search_user_db,\n",
    "        description=\"Procura informações sobre um usuaŕio na base de dados\"\n",
    "    ),\n",
    "    Tool(\n",
    "        name=\"Calcular soma\",\n",
    "        func=sum_numbers,\n",
    "        description=\"Calcula a soma de dois numeros\"\n",
    "    )\n",
    "]"
   ]
  },
  {
   "cell_type": "code",
   "execution_count": 27,
   "id": "30299fb5-b1f8-4850-b811-2f65a3390bee",
   "metadata": {},
   "outputs": [],
   "source": [
    "agent= initialize_agent(tools,llm,agent=AgentType.ZERO_SHOT_REACT_DESCRIPTION,verbose=True)"
   ]
  },
  {
   "cell_type": "code",
   "execution_count": 28,
   "id": "39804e7c-3fff-41c4-902c-3e8bb97ddd85",
   "metadata": {},
   "outputs": [
    {
     "name": "stdout",
     "output_type": "stream",
     "text": [
      "\n",
      "\n",
      "\u001b[1m> Entering new AgentExecutor chain...\u001b[0m\n",
      "\u001b[32;1m\u001b[1;3mI need to calculate the sum of 5, 25, and 15 first. Then I need to find out Maria's age.\n",
      "Action: Calcular soma\n",
      "Action Input: 5, 25, 15\u001b[0m\n",
      "Observation: \u001b[33;1m\u001b[1;3mErro: A entrada não é uma lista de números válida\u001b[0m\n",
      "Thought:\u001b[32;1m\u001b[1;3mI need to input the numbers as a list.\n",
      "Action: Calcular soma\n",
      "Action Input: [5, 25, 15]\u001b[0m\n",
      "Observation: \u001b[33;1m\u001b[1;3mA soma dos números[5, 25, 15] é 45\u001b[0m\n",
      "Thought:\u001b[32;1m\u001b[1;3mNow I need to find out Maria's age.\n",
      "Action: Buscar Usuário no BD\n",
      "Action Input: Maria\u001b[0m\n",
      "Observation: \u001b[36;1m\u001b[1;3mMaria tem 30 anos\u001b[0m\n",
      "Thought:\u001b[32;1m\u001b[1;3mI now know the final answer\n",
      "Final Answer: A soma de 5, 25 e 15 é 45. Maria tem 30 anos.\u001b[0m\n",
      "\n",
      "\u001b[1m> Finished chain.\u001b[0m\n",
      "A soma de 5, 25 e 15 é 45. Maria tem 30 anos.\n"
     ]
    }
   ],
   "source": [
    "input_query=\"Qual é a soma de 5, 25 e 15? Quantos anos Maria tem?\"\n",
    "response= agent.run(input_query)\n",
    "print(response)"
   ]
  }
 ],
 "metadata": {
  "kernelspec": {
   "display_name": "Python 3 (ipykernel)",
   "language": "python",
   "name": "python3"
  },
  "language_info": {
   "codemirror_mode": {
    "name": "ipython",
    "version": 3
   },
   "file_extension": ".py",
   "mimetype": "text/x-python",
   "name": "python",
   "nbconvert_exporter": "python",
   "pygments_lexer": "ipython3",
   "version": "3.10.12"
  }
 },
 "nbformat": 4,
 "nbformat_minor": 5
}
