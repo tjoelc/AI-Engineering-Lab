{
 "cells": [
  {
   "cell_type": "code",
   "execution_count": 1,
   "id": "dd61370c-f430-4ef6-bc90-66b609abc708",
   "metadata": {},
   "outputs": [],
   "source": [
    "import pandas as pd\n",
    "from langchain_experimental.agents.agent_toolkits import create_pandas_dataframe_agent\n",
    "from langchain_openai import ChatOpenAI\n",
    "import os\n",
    "from dotenv import load_dotenv"
   ]
  },
  {
   "cell_type": "code",
   "execution_count": 2,
   "id": "a2189404-0894-4201-bfe7-21e844954710",
   "metadata": {},
   "outputs": [
    {
     "name": "stdout",
     "output_type": "stream",
     "text": [
      "Requirement already satisfied: tabulate in /home/joelct/Area_de_Trabalho/Curso Engenharia IA/analis_sentiment/.venv/lib/python3.10/site-packages (0.9.0)\n",
      "Note: you may need to restart the kernel to use updated packages.\n"
     ]
    }
   ],
   "source": [
    "pip install tabulate"
   ]
  },
  {
   "cell_type": "code",
   "execution_count": 3,
   "id": "43447d71-d203-4565-b3da-f3dd94c7bf29",
   "metadata": {},
   "outputs": [],
   "source": [
    "load_dotenv()\n",
    "chat= ChatOpenAI(api_key=os.getenv('OPENAI_API_KEY'),model=\"gpt-3.5-turbo\")"
   ]
  },
  {
   "cell_type": "code",
   "execution_count": 4,
   "id": "1dd3b14f-8929-4271-b4d6-e4b52ad47549",
   "metadata": {},
   "outputs": [
    {
     "data": {
      "text/html": [
       "<div>\n",
       "<style scoped>\n",
       "    .dataframe tbody tr th:only-of-type {\n",
       "        vertical-align: middle;\n",
       "    }\n",
       "\n",
       "    .dataframe tbody tr th {\n",
       "        vertical-align: top;\n",
       "    }\n",
       "\n",
       "    .dataframe thead th {\n",
       "        text-align: right;\n",
       "    }\n",
       "</style>\n",
       "<table border=\"1\" class=\"dataframe\">\n",
       "  <thead>\n",
       "    <tr style=\"text-align: right;\">\n",
       "      <th></th>\n",
       "      <th>Source</th>\n",
       "      <th>Year</th>\n",
       "      <th>Mean</th>\n",
       "    </tr>\n",
       "  </thead>\n",
       "  <tbody>\n",
       "    <tr>\n",
       "      <th>0</th>\n",
       "      <td>gcag</td>\n",
       "      <td>1850</td>\n",
       "      <td>-0.4177</td>\n",
       "    </tr>\n",
       "    <tr>\n",
       "      <th>1</th>\n",
       "      <td>gcag</td>\n",
       "      <td>1851</td>\n",
       "      <td>-0.2333</td>\n",
       "    </tr>\n",
       "    <tr>\n",
       "      <th>2</th>\n",
       "      <td>gcag</td>\n",
       "      <td>1852</td>\n",
       "      <td>-0.2294</td>\n",
       "    </tr>\n",
       "    <tr>\n",
       "      <th>3</th>\n",
       "      <td>gcag</td>\n",
       "      <td>1853</td>\n",
       "      <td>-0.2704</td>\n",
       "    </tr>\n",
       "    <tr>\n",
       "      <th>4</th>\n",
       "      <td>gcag</td>\n",
       "      <td>1854</td>\n",
       "      <td>-0.2915</td>\n",
       "    </tr>\n",
       "  </tbody>\n",
       "</table>\n",
       "</div>"
      ],
      "text/plain": [
       "  Source  Year    Mean\n",
       "0   gcag  1850 -0.4177\n",
       "1   gcag  1851 -0.2333\n",
       "2   gcag  1852 -0.2294\n",
       "3   gcag  1853 -0.2704\n",
       "4   gcag  1854 -0.2915"
      ]
     },
     "execution_count": 4,
     "metadata": {},
     "output_type": "execute_result"
    }
   ],
   "source": [
    "df_temp= pd.read_csv(\"https://datahub.io/core/global-temp/r/0.csv\")\n",
    "df_temp.head()"
   ]
  },
  {
   "cell_type": "code",
   "execution_count": 6,
   "id": "bc93bf08-b392-4747-a6d0-f7fc6b8f6cd7",
   "metadata": {},
   "outputs": [],
   "source": [
    "agent_temp= create_pandas_dataframe_agent(\n",
    "    chat,\n",
    "    df_temp,\n",
    "    verbose=True,\n",
    "    agent_type=\"tool-calling\"\n",
    ")\n"
   ]
  },
  {
   "cell_type": "code",
   "execution_count": 8,
   "id": "2537f4fb-b9f4-4902-987d-c55baaece261",
   "metadata": {},
   "outputs": [
    {
     "name": "stdout",
     "output_type": "stream",
     "text": [
      "\n",
      "\n",
      "\u001b[1m> Entering new AgentExecutor chain...\u001b[0m\n",
      "\u001b[32;1m\u001b[1;3m\n",
      "Invoking: `python_repl_ast` with `{'query': \"df[df['Year'] == df['Year'].max()]['Mean'].values[0]\"}`\n",
      "\n",
      "\n",
      "\u001b[0m\u001b[36;1m\u001b[1;3m1.1755\u001b[0m\u001b[32;1m\u001b[1;3mA temperatura média global do último ano é de 1.1755.\u001b[0m\n",
      "\n",
      "\u001b[1m> Finished chain.\u001b[0m\n",
      "A temperatura média global do último ano é de 1.1755.\n"
     ]
    }
   ],
   "source": [
    "# qual a temperatura media global do ultimo ano\n",
    "resposta= agent_temp.invoke({\"input\":\"Qual a temperatura média global do último ano?\"})\n",
    "print(resposta['output'])"
   ]
  },
  {
   "cell_type": "code",
   "execution_count": 9,
   "id": "1f57cc29-bcb2-40f2-9aea-65b206c04af2",
   "metadata": {},
   "outputs": [
    {
     "name": "stdout",
     "output_type": "stream",
     "text": [
      "\n",
      "\n",
      "\u001b[1m> Entering new AgentExecutor chain...\u001b[0m\n",
      "\u001b[32;1m\u001b[1;3m\n",
      "Invoking: `python_repl_ast` with `{'query': \"df[df['Mean'] == df['Mean'].max()]['Year'].values[0]\"}`\n",
      "\n",
      "\n",
      "\u001b[0m\u001b[36;1m\u001b[1;3m2024\u001b[0m\u001b[32;1m\u001b[1;3mO ano com a maior temperatura média é 2024.\u001b[0m\n",
      "\n",
      "\u001b[1m> Finished chain.\u001b[0m\n",
      "O ano com a maior temperatura média é 2024.\n"
     ]
    }
   ],
   "source": [
    "\n",
    "resposta =agent_temp.invoke({\"input\":\"Qual o ano com a maior temperatura média?\"})\n",
    "print(resposta['output'])"
   ]
  },
  {
   "cell_type": "markdown",
   "id": "405eaa37-d498-43cc-9440-c884dfc73b4b",
   "metadata": {},
   "source": [
    "TRABALHANDO COM AGENTES E BANCO DE DADOS SAQUILA DB"
   ]
  },
  {
   "cell_type": "code",
   "execution_count": 33,
   "id": "3e90657c-6609-4ce2-9e62-674fec721a48",
   "metadata": {},
   "outputs": [],
   "source": [
    "from langchain_community.utilities.sql_database import SQLDatabase\n",
    "from langchain_community.agent_toolkits.sql.base import create_sql_agent\n"
   ]
  },
  {
   "cell_type": "code",
   "execution_count": 39,
   "id": "df4c22d5-8a77-4629-a1e2-e3ef73872e6e",
   "metadata": {},
   "outputs": [],
   "source": [
    "db_sakila= SQLDatabase.from_uri(\"sqlite:///files/sqlite-sakila.db\")"
   ]
  },
  {
   "cell_type": "code",
   "execution_count": 40,
   "id": "a1507c5d-bc5c-4786-8240-368eb6677101",
   "metadata": {},
   "outputs": [],
   "source": [
    "agent_executor_sakila=create_sql_agent(\n",
    "    chat,\n",
    "    db=db_sakila,\n",
    "    agent_type=\"tool-calling\",\n",
    "    verbose=True\n",
    ")"
   ]
  },
  {
   "cell_type": "code",
   "execution_count": 41,
   "id": "24b33037-25e5-4c1c-9841-11c7eaac86e5",
   "metadata": {},
   "outputs": [
    {
     "name": "stdout",
     "output_type": "stream",
     "text": [
      "\n",
      "\n",
      "\u001b[1m> Entering new SQL Agent Executor chain...\u001b[0m\n",
      "\u001b[32;1m\u001b[1;3m\n",
      "Invoking: `sql_db_list_tables` with `{}`\n",
      "\n",
      "\n",
      "\u001b[0m\u001b[38;5;200m\u001b[1;3mactor, address, category, city, country, customer, film, film_actor, film_category, film_text, inventory, language, payment, rental, staff, store\u001b[0m\u001b[32;1m\u001b[1;3m\n",
      "Invoking: `sql_db_schema` with `{'table_names': 'film'}`\n",
      "\n",
      "\n",
      "\u001b[0m\u001b[33;1m\u001b[1;3m\n",
      "CREATE TABLE film (\n",
      "\tfilm_id INTEGER NOT NULL, \n",
      "\ttitle VARCHAR(255) NOT NULL, \n",
      "\tdescription TEXT DEFAULT NULL, \n",
      "\trelease_year VARCHAR(4) DEFAULT NULL, \n",
      "\tlanguage_id SMALLINT NOT NULL, \n",
      "\toriginal_language_id SMALLINT DEFAULT NULL, \n",
      "\trental_duration SMALLINT DEFAULT 3 NOT NULL, \n",
      "\trental_rate DECIMAL(4, 2) DEFAULT (4.99) NOT NULL, \n",
      "\tlength SMALLINT DEFAULT NULL, \n",
      "\treplacement_cost DECIMAL(5, 2) DEFAULT (19.99) NOT NULL, \n",
      "\trating VARCHAR(10) DEFAULT 'G', \n",
      "\tspecial_features VARCHAR(100) DEFAULT NULL, \n",
      "\tlast_update TIMESTAMP NOT NULL, \n",
      "\tPRIMARY KEY (film_id), \n",
      "\tCONSTRAINT fk_film_language FOREIGN KEY(language_id) REFERENCES language (language_id), \n",
      "\tCONSTRAINT fk_film_language_original FOREIGN KEY(original_language_id) REFERENCES language (language_id), \n",
      "\tCONSTRAINT \"CHECK_special_rating\" CHECK (rating in ('G','PG','PG-13','R','NC-17'))\n",
      ")\n",
      "\n",
      "/*\n",
      "3 rows from film table:\n",
      "film_id\ttitle\tdescription\trelease_year\tlanguage_id\toriginal_language_id\trental_duration\trental_rate\tlength\treplacement_cost\trating\tspecial_features\tlast_update\n",
      "1\tACADEMY DINOSAUR\tA Epic Drama of a Feminist And a Mad Scientist who must Battle a Teacher in The Canadian Rockies\t2006\t1\tNone\t6\t0.99\t86\t20.99\tPG\tDeleted Scenes,Behind the Scenes\t2021-03-06 15:52:00\n",
      "2\tACE GOLDFINGER\tA Astounding Epistle of a Database Administrator And a Explorer who must Find a Car in Ancient China\t2006\t1\tNone\t3\t4.99\t48\t12.99\tG\tTrailers,Deleted Scenes\t2021-03-06 15:52:00\n",
      "3\tADAPTATION HOLES\tA Astounding Reflection of a Lumberjack And a Car who must Sink a Lumberjack in A Baloon Factory\t2006\t1\tNone\t7\t2.99\t50\t18.99\tNC-17\tTrailers,Deleted Scenes\t2021-03-06 15:52:00\n",
      "*/\u001b[0m"
     ]
    },
    {
     "name": "stderr",
     "output_type": "stream",
     "text": [
      "/home/joelct/Area_de_Trabalho/Curso Engenharia IA/analis_sentiment/.venv/lib/python3.10/site-packages/langchain_community/utilities/sql_database.py:313: SAWarning: Cannot correctly sort tables; there are unresolvable cycles between tables \"staff, store\", which is usually caused by mutually dependent foreign key constraints.  Foreign key constraints involving these tables will not be considered; this warning may raise an error in a future release.\n",
      "  metadata_table_names = [tbl.name for tbl in self._metadata.sorted_tables]\n",
      "/home/joelct/Area_de_Trabalho/Curso Engenharia IA/analis_sentiment/.venv/lib/python3.10/site-packages/langchain_community/utilities/sql_database.py:325: SAWarning: Cannot correctly sort tables; there are unresolvable cycles between tables \"staff, store\", which is usually caused by mutually dependent foreign key constraints.  Foreign key constraints involving these tables will not be considered; this warning may raise an error in a future release.\n",
      "  for tbl in self._metadata.sorted_tables\n"
     ]
    },
    {
     "name": "stdout",
     "output_type": "stream",
     "text": [
      "\u001b[32;1m\u001b[1;3m\n",
      "Invoking: `sql_db_query` with `{'query': 'SELECT title, rental_duration, rental_rate, replacement_cost FROM film ORDER BY rental_rate DESC LIMIT 10'}`\n",
      "\n",
      "\n",
      "\u001b[0m\u001b[36;1m\u001b[1;3m[('ACE GOLDFINGER', 3, 4.99, 12.99), ('AIRPLANE SIERRA', 6, 4.99, 28.99), ('AIRPORT POLLOCK', 6, 4.99, 15.99), ('ALADDIN CALENDAR', 6, 4.99, 24.99), ('ALI FOREVER', 4, 4.99, 21.99), ('AMELIE HELLFIGHTERS', 4, 4.99, 23.99), ('AMERICAN CIRCUS', 3, 4.99, 17.99), ('ANTHEM LUKE', 5, 4.99, 16.99), ('APACHE DIVINE', 5, 4.99, 16.99), ('APOCALYPSE FLAMINGOS', 6, 4.99, 11.99)]\u001b[0m\u001b[32;1m\u001b[1;3mOs filmes mais alugados são:\n",
      "\n",
      "1. Título: ACE GOLDFINGER, Duração do aluguel: 3 dias, Taxa de aluguel: $4.99, Custo de reposição: $12.99\n",
      "2. Título: AIRPLANE SIERRA, Duração do aluguel: 6 dias, Taxa de aluguel: $4.99, Custo de reposição: $28.99\n",
      "3. Título: AIRPORT POLLOCK, Duração do aluguel: 6 dias, Taxa de aluguel: $4.99, Custo de reposição: $15.99\n",
      "4. Título: ALADDIN CALENDAR, Duração do aluguel: 6 dias, Taxa de aluguel: $4.99, Custo de reposição: $24.99\n",
      "5. Título: ALI FOREVER, Duração do aluguel: 4 dias, Taxa de aluguel: $4.99, Custo de reposição: $21.99\n",
      "6. Título: AMELIE HELLFIGHTERS, Duração do aluguel: 4 dias, Taxa de aluguel: $4.99, Custo de reposição: $23.99\n",
      "7. Título: AMERICAN CIRCUS, Duração do aluguel: 3 dias, Taxa de aluguel: $4.99, Custo de reposição: $17.99\n",
      "8. Título: ANTHEM LUKE, Duração do aluguel: 5 dias, Taxa de aluguel: $4.99, Custo de reposição: $16.99\n",
      "9. Título: APACHE DIVINE, Duração do aluguel: 5 dias, Taxa de aluguel: $4.99, Custo de reposição: $16.99\n",
      "10. Título: APOCALYPSE FLAMINGOS, Duração do aluguel: 6 dias, Taxa de aluguel: $4.99, Custo de reposição: $11.99\u001b[0m\n",
      "\n",
      "\u001b[1m> Finished chain.\u001b[0m\n",
      "Os filmes mais alugados são:\n",
      "\n",
      "1. Título: ACE GOLDFINGER, Duração do aluguel: 3 dias, Taxa de aluguel: $4.99, Custo de reposição: $12.99\n",
      "2. Título: AIRPLANE SIERRA, Duração do aluguel: 6 dias, Taxa de aluguel: $4.99, Custo de reposição: $28.99\n",
      "3. Título: AIRPORT POLLOCK, Duração do aluguel: 6 dias, Taxa de aluguel: $4.99, Custo de reposição: $15.99\n",
      "4. Título: ALADDIN CALENDAR, Duração do aluguel: 6 dias, Taxa de aluguel: $4.99, Custo de reposição: $24.99\n",
      "5. Título: ALI FOREVER, Duração do aluguel: 4 dias, Taxa de aluguel: $4.99, Custo de reposição: $21.99\n",
      "6. Título: AMELIE HELLFIGHTERS, Duração do aluguel: 4 dias, Taxa de aluguel: $4.99, Custo de reposição: $23.99\n",
      "7. Título: AMERICAN CIRCUS, Duração do aluguel: 3 dias, Taxa de aluguel: $4.99, Custo de reposição: $17.99\n",
      "8. Título: ANTHEM LUKE, Duração do aluguel: 5 dias, Taxa de aluguel: $4.99, Custo de reposição: $16.99\n",
      "9. Título: APACHE DIVINE, Duração do aluguel: 5 dias, Taxa de aluguel: $4.99, Custo de reposição: $16.99\n",
      "10. Título: APOCALYPSE FLAMINGOS, Duração do aluguel: 6 dias, Taxa de aluguel: $4.99, Custo de reposição: $11.99\n"
     ]
    }
   ],
   "source": [
    "resposta = agent_executor_sakila.invoke({\"input\":\"Quais são os filmes mais alugados?\"})\n",
    "print(resposta['output'])"
   ]
  },
  {
   "cell_type": "code",
   "execution_count": 42,
   "id": "87a03401-d0e6-4acd-9171-ea96869c698e",
   "metadata": {},
   "outputs": [
    {
     "name": "stdout",
     "output_type": "stream",
     "text": [
      "\n",
      "\n",
      "\u001b[1m> Entering new SQL Agent Executor chain...\u001b[0m\n",
      "\u001b[32;1m\u001b[1;3m\n",
      "Invoking: `sql_db_list_tables` with `{}`\n",
      "\n",
      "\n",
      "\u001b[0m\u001b[38;5;200m\u001b[1;3mactor, address, category, city, country, customer, film, film_actor, film_category, film_text, inventory, language, payment, rental, staff, store\u001b[0m\u001b[32;1m\u001b[1;3m\n",
      "Invoking: `sql_db_schema` with `{'table_names': 'actor, film_actor'}`\n",
      "\n",
      "\n",
      "\u001b[0m\u001b[33;1m\u001b[1;3m\n",
      "CREATE TABLE actor (\n",
      "\tactor_id NUMERIC NOT NULL, \n",
      "\tfirst_name VARCHAR(45) NOT NULL, \n",
      "\tlast_name VARCHAR(45) NOT NULL, \n",
      "\tlast_update TIMESTAMP NOT NULL, \n",
      "\tPRIMARY KEY (actor_id)\n",
      ")\n",
      "\n",
      "/*\n",
      "3 rows from actor table:\n",
      "actor_id\tfirst_name\tlast_name\tlast_update\n",
      "1.0000000000\tPENELOPE\tGUINESS\t2021-03-06 15:51:59\n",
      "2.0000000000\tNICK\tWAHLBERG\t2021-03-06 15:51:59\n",
      "3.0000000000\tED\tCHASE\t2021-03-06 15:51:59\n",
      "*/\n",
      "\n",
      "\n",
      "CREATE TABLE film_actor (\n",
      "\tactor_id INTEGER NOT NULL, \n",
      "\tfilm_id INTEGER NOT NULL, \n",
      "\tlast_update TIMESTAMP NOT NULL, \n",
      "\tPRIMARY KEY (actor_id, film_id), \n",
      "\tCONSTRAINT fk_film_actor_actor FOREIGN KEY(actor_id) REFERENCES actor (actor_id) ON UPDATE CASCADE, \n",
      "\tCONSTRAINT fk_film_actor_film FOREIGN KEY(film_id) REFERENCES film (film_id) ON UPDATE CASCADE\n",
      ")\n",
      "\n",
      "/*\n",
      "3 rows from film_actor table:\n",
      "actor_id\tfilm_id\tlast_update\n",
      "1\t1\t2021-03-06 15:52:45\n",
      "1\t23\t2021-03-06 15:52:45\n",
      "1\t25\t2021-03-06 15:52:45\n",
      "*/\u001b[0m"
     ]
    },
    {
     "name": "stderr",
     "output_type": "stream",
     "text": [
      "/home/joelct/Area_de_Trabalho/Curso Engenharia IA/analis_sentiment/.venv/lib/python3.10/site-packages/langchain_community/utilities/sql_database.py:313: SAWarning: Cannot correctly sort tables; there are unresolvable cycles between tables \"staff, store\", which is usually caused by mutually dependent foreign key constraints.  Foreign key constraints involving these tables will not be considered; this warning may raise an error in a future release.\n",
      "  metadata_table_names = [tbl.name for tbl in self._metadata.sorted_tables]\n",
      "/home/joelct/Area_de_Trabalho/Curso Engenharia IA/analis_sentiment/.venv/lib/python3.10/site-packages/langchain_community/utilities/sql_database.py:325: SAWarning: Cannot correctly sort tables; there are unresolvable cycles between tables \"staff, store\", which is usually caused by mutually dependent foreign key constraints.  Foreign key constraints involving these tables will not be considered; this warning may raise an error in a future release.\n",
      "  for tbl in self._metadata.sorted_tables\n"
     ]
    },
    {
     "name": "stdout",
     "output_type": "stream",
     "text": [
      "\u001b[32;1m\u001b[1;3m\n",
      "Invoking: `sql_db_query` with `{'query': 'SELECT actor_id, first_name, last_name, COUNT(film_id) AS film_count FROM actor JOIN film_actor ON actor.actor_id = film_actor.actor_id GROUP BY actor_id ORDER BY film_count DESC LIMIT 10'}`\n",
      "\n",
      "\n",
      "\u001b[0m\u001b[36;1m\u001b[1;3mError: (sqlite3.OperationalError) ambiguous column name: actor_id\n",
      "[SQL: SELECT actor_id, first_name, last_name, COUNT(film_id) AS film_count FROM actor JOIN film_actor ON actor.actor_id = film_actor.actor_id GROUP BY actor_id ORDER BY film_count DESC LIMIT 10]\n",
      "(Background on this error at: https://sqlalche.me/e/20/e3q8)\u001b[0m\u001b[32;1m\u001b[1;3m\n",
      "Invoking: `sql_db_query` with `{'query': 'SELECT actor.actor_id, actor.first_name, actor.last_name, COUNT(film_actor.film_id) AS film_count FROM actor JOIN film_actor ON actor.actor_id = film_actor.actor_id GROUP BY actor.actor_id ORDER BY film_count DESC LIMIT 10'}`\n",
      "\n",
      "\n",
      "\u001b[0m\u001b[36;1m\u001b[1;3m[(107, 'GINA', 'DEGENERES', 42), (102, 'WALTER', 'TORN', 41), (198, 'MARY', 'KEITEL', 40), (181, 'MATTHEW', 'CARREY', 39), (23, 'SANDRA', 'KILMER', 37), (81, 'SCARLETT', 'DAMON', 36), (13, 'UMA', 'WOOD', 35), (37, 'VAL', 'BOLGER', 35), (60, 'HENRY', 'BERRY', 35), (106, 'GROUCHO', 'DUNST', 35)]\u001b[0m\u001b[32;1m\u001b[1;3mOs atores que atuaram em mais filmes são:\n",
      "\n",
      "1. Gina Degeneres - 42 filmes\n",
      "2. Walter Torn - 41 filmes\n",
      "3. Mary Keitel - 40 filmes\n",
      "4. Matthew Carrey - 39 filmes\n",
      "5. Sandra Kilmer - 37 filmes\n",
      "6. Scarlett Damon - 36 filmes\n",
      "7. Uma Wood - 35 filmes\n",
      "8. Val Bolger - 35 filmes\n",
      "9. Henry Berry - 35 filmes\n",
      "10. Groucho Dunst - 35 filmes\u001b[0m\n",
      "\n",
      "\u001b[1m> Finished chain.\u001b[0m\n",
      "Os atores que atuaram em mais filmes são:\n",
      "\n",
      "1. Gina Degeneres - 42 filmes\n",
      "2. Walter Torn - 41 filmes\n",
      "3. Mary Keitel - 40 filmes\n",
      "4. Matthew Carrey - 39 filmes\n",
      "5. Sandra Kilmer - 37 filmes\n",
      "6. Scarlett Damon - 36 filmes\n",
      "7. Uma Wood - 35 filmes\n",
      "8. Val Bolger - 35 filmes\n",
      "9. Henry Berry - 35 filmes\n",
      "10. Groucho Dunst - 35 filmes\n"
     ]
    }
   ],
   "source": [
    "resposta = agent_executor_sakila.invoke({\"input\":\"Quais atores atuaram em mais filmes?\"})\n",
    "print(resposta['output'])"
   ]
  },
  {
   "cell_type": "code",
   "execution_count": 43,
   "id": "081c86f5-1c36-4acb-b787-40cfe8d39942",
   "metadata": {},
   "outputs": [
    {
     "name": "stdout",
     "output_type": "stream",
     "text": [
      "\n",
      "\n",
      "\u001b[1m> Entering new SQL Agent Executor chain...\u001b[0m\n",
      "\u001b[32;1m\u001b[1;3m\n",
      "Invoking: `sql_db_list_tables` with `{}`\n",
      "\n",
      "\n",
      "\u001b[0m\u001b[38;5;200m\u001b[1;3mactor, address, category, city, country, customer, film, film_actor, film_category, film_text, inventory, language, payment, rental, staff, store\u001b[0m\u001b[32;1m\u001b[1;3m\n",
      "Invoking: `sql_db_schema` with `{'table_names': 'customer, rental'}`\n",
      "\n",
      "\n",
      "\u001b[0m\u001b[33;1m\u001b[1;3m\n",
      "CREATE TABLE customer (\n",
      "\tcustomer_id INTEGER NOT NULL, \n",
      "\tstore_id INTEGER NOT NULL, \n",
      "\tfirst_name VARCHAR(45) NOT NULL, \n",
      "\tlast_name VARCHAR(45) NOT NULL, \n",
      "\temail VARCHAR(50) DEFAULT NULL, \n",
      "\taddress_id INTEGER NOT NULL, \n",
      "\tactive CHAR(1) DEFAULT 'Y' NOT NULL, \n",
      "\tcreate_date TIMESTAMP NOT NULL, \n",
      "\tlast_update TIMESTAMP NOT NULL, \n",
      "\tPRIMARY KEY (customer_id), \n",
      "\tCONSTRAINT fk_customer_store FOREIGN KEY(store_id) REFERENCES store (store_id) ON UPDATE CASCADE, \n",
      "\tCONSTRAINT fk_customer_address FOREIGN KEY(address_id) REFERENCES address (address_id) ON UPDATE CASCADE\n",
      ")\n",
      "\n",
      "/*\n",
      "3 rows from customer table:\n",
      "customer_id\tstore_id\tfirst_name\tlast_name\temail\taddress_id\tactive\tcreate_date\tlast_update\n",
      "1\t1\tMARY\tSMITH\tMARY.SMITH@sakilacustomer.org\t5\t1\t2006-02-14 22:04:36\t2021-03-06 15:53:36\n",
      "2\t1\tPATRICIA\tJOHNSON\tPATRICIA.JOHNSON@sakilacustomer.org\t6\t1\t2006-02-14 22:04:36\t2021-03-06 15:53:36\n",
      "3\t1\tLINDA\tWILLIAMS\tLINDA.WILLIAMS@sakilacustomer.org\t7\t1\t2006-02-14 22:04:36\t2021-03-06 15:53:36\n",
      "*/\n",
      "\n",
      "\n",
      "CREATE TABLE rental (\n",
      "\trental_id INTEGER NOT NULL, \n",
      "\trental_date TIMESTAMP NOT NULL, \n",
      "\tinventory_id INTEGER NOT NULL, \n",
      "\tcustomer_id INTEGER NOT NULL, \n",
      "\treturn_date TIMESTAMP DEFAULT NULL, \n",
      "\tstaff_id SMALLINT NOT NULL, \n",
      "\tlast_update TIMESTAMP NOT NULL, \n",
      "\tPRIMARY KEY (rental_id), \n",
      "\tCONSTRAINT fk_rental_staff FOREIGN KEY(staff_id) REFERENCES staff (staff_id), \n",
      "\tCONSTRAINT fk_rental_inventory FOREIGN KEY(inventory_id) REFERENCES inventory (inventory_id), \n",
      "\tCONSTRAINT fk_rental_customer FOREIGN KEY(customer_id) REFERENCES customer (customer_id)\n",
      ")\n",
      "\n",
      "/*\n",
      "3 rows from rental table:\n",
      "rental_id\trental_date\tinventory_id\tcustomer_id\treturn_date\tstaff_id\tlast_update\n",
      "1\t2005-05-24 22:53:30\t367\t130\t2005-05-26 22:04:30\t1\t2021-03-06 15:53:41\n",
      "2\t2005-05-24 22:54:33\t1525\t459\t2005-05-28 19:40:33\t1\t2021-03-06 15:53:41\n",
      "3\t2005-05-24 23:03:39\t1711\t408\t2005-06-01 22:12:39\t1\t2021-03-06 15:53:41\n",
      "*/\u001b[0m"
     ]
    },
    {
     "name": "stderr",
     "output_type": "stream",
     "text": [
      "/home/joelct/Area_de_Trabalho/Curso Engenharia IA/analis_sentiment/.venv/lib/python3.10/site-packages/langchain_community/utilities/sql_database.py:313: SAWarning: Cannot correctly sort tables; there are unresolvable cycles between tables \"staff, store\", which is usually caused by mutually dependent foreign key constraints.  Foreign key constraints involving these tables will not be considered; this warning may raise an error in a future release.\n",
      "  metadata_table_names = [tbl.name for tbl in self._metadata.sorted_tables]\n",
      "/home/joelct/Area_de_Trabalho/Curso Engenharia IA/analis_sentiment/.venv/lib/python3.10/site-packages/langchain_community/utilities/sql_database.py:325: SAWarning: Cannot correctly sort tables; there are unresolvable cycles between tables \"staff, store\", which is usually caused by mutually dependent foreign key constraints.  Foreign key constraints involving these tables will not be considered; this warning may raise an error in a future release.\n",
      "  for tbl in self._metadata.sorted_tables\n"
     ]
    },
    {
     "name": "stdout",
     "output_type": "stream",
     "text": [
      "\u001b[32;1m\u001b[1;3m\n",
      "Invoking: `sql_db_query` with `{'query': 'SELECT c.first_name, c.last_name, COUNT(r.customer_id) AS num_rentals FROM customer c JOIN rental r ON c.customer_id = r.customer_id GROUP BY c.customer_id ORDER BY num_rentals DESC LIMIT 10'}`\n",
      "\n",
      "\n",
      "\u001b[0m\u001b[36;1m\u001b[1;3m[('ELEANOR', 'HUNT', 46), ('KARL', 'SEAL', 45), ('CLARA', 'SHAW', 42), ('MARCIA', 'DEAN', 42), ('TAMMY', 'SANDERS', 41), ('SUE', 'PETERS', 40), ('WESLEY', 'BULL', 40), ('RHONDA', 'KENNEDY', 39), ('MARION', 'SNYDER', 39), ('TIM', 'CARY', 39)]\u001b[0m\u001b[32;1m\u001b[1;3mOs clientes que alugaram mais filmes são:\n",
      "\n",
      "1. Eleanor Hunt - 46 aluguéis\n",
      "2. Karl Seal - 45 aluguéis\n",
      "3. Clara Shaw - 42 aluguéis\n",
      "4. Marcia Dean - 42 aluguéis\n",
      "5. Tammy Sanders - 41 aluguéis\n",
      "6. Sue Peters - 40 aluguéis\n",
      "7. Wesley Bull - 40 aluguéis\n",
      "8. Rhonda Kennedy - 39 aluguéis\n",
      "9. Marion Snyder - 39 aluguéis\n",
      "10. Tim Cary - 39 aluguéis\u001b[0m\n",
      "\n",
      "\u001b[1m> Finished chain.\u001b[0m\n",
      "Os clientes que alugaram mais filmes são:\n",
      "\n",
      "1. Eleanor Hunt - 46 aluguéis\n",
      "2. Karl Seal - 45 aluguéis\n",
      "3. Clara Shaw - 42 aluguéis\n",
      "4. Marcia Dean - 42 aluguéis\n",
      "5. Tammy Sanders - 41 aluguéis\n",
      "6. Sue Peters - 40 aluguéis\n",
      "7. Wesley Bull - 40 aluguéis\n",
      "8. Rhonda Kennedy - 39 aluguéis\n",
      "9. Marion Snyder - 39 aluguéis\n",
      "10. Tim Cary - 39 aluguéis\n"
     ]
    }
   ],
   "source": [
    "resposta = agent_executor_sakila.invoke({\"input\":\"Quais são os clientes que alugaram mais filmes?\"})\n",
    "print(resposta['output'])"
   ]
  }
 ],
 "metadata": {
  "kernelspec": {
   "display_name": "Python 3 (ipykernel)",
   "language": "python",
   "name": "python3"
  },
  "language_info": {
   "codemirror_mode": {
    "name": "ipython",
    "version": 3
   },
   "file_extension": ".py",
   "mimetype": "text/x-python",
   "name": "python",
   "nbconvert_exporter": "python",
   "pygments_lexer": "ipython3",
   "version": "3.10.12"
  }
 },
 "nbformat": 4,
 "nbformat_minor": 5
}
